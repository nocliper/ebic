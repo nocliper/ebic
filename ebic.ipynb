{
 "cells": [
  {
   "cell_type": "code",
   "execution_count": 1,
   "metadata": {},
   "outputs": [],
   "source": [
    "import numpy as np\n",
    "import matplotlib.pyplot as plt\n",
    "%matplotlib notebook"
   ]
  },
  {
   "cell_type": "markdown",
   "metadata": {},
   "source": [
    "## EBIC "
   ]
  },
  {
   "cell_type": "code",
   "execution_count": 2,
   "metadata": {},
   "outputs": [],
   "source": [
    "q = 1.6E-19 #C\n",
    "Ib = 1E-3\n",
    "Eb = 2\n",
    "eta = 1\n",
    "Ei = 0.01\n",
    "\n",
    "G0 = Ib*Eb*eta/q/Ei"
   ]
  },
  {
   "cell_type": "code",
   "execution_count": 3,
   "metadata": {},
   "outputs": [],
   "source": [
    "def Ic(Eb, tm, W, L):\n",
    "    \"\"\"Returns Collection efficiency value for given:\n",
    "    \n",
    "    Eb – electron beam energy\n",
    "    tm – metal thickness\n",
    "    W  – screen charge region thickness\n",
    "    L  – Diffusion length \n",
    "    \n",
    "    \"\"\"\n",
    "    from scipy.integrate import quad\n",
    "    \n",
    "    def A(z, Eb):\n",
    "        R = 7.34*Eb**(1.75)#nm, Eb in keV\n",
    "        return np.piecewise(z, \n",
    "                            [z < 0.22*R, z >= 0.22*R],\n",
    "                            [lambda z: 12.86, lambda z: 3.97])\n",
    "\n",
    "    def h(z, Eb):\n",
    "        R = 7.34*Eb**(1.75)#nm, Eb in keV\n",
    "        return 1.603/R*np.exp(-A(z, Eb)*(z/R - 0.22)**2)\n",
    "    \n",
    "    def hexp(z, Eb):\n",
    "        R = 7.34*Eb**(1.75)#nm, Eb in keV\n",
    "        return 1.603/R*np.exp(-A(z, Eb)*(z/R - 0.22)**2)*np.exp(-(z-W)/L)\n",
    "\n",
    "    \n",
    "    I1 = np.asarray([quad(h,    tm,      W, args=(_Eb))[0] for _Eb in Eb])\n",
    "    I2 = np.asarray([quad(hexp, tm, np.inf, args=(_Eb))[0] for _Eb in Eb])\n",
    "    I = q*G0*(I1 + I2)\n",
    "    I = I/max(I)\n",
    "    return I"
   ]
  },
  {
   "cell_type": "markdown",
   "metadata": {},
   "source": [
    "## Plot data"
   ]
  },
  {
   "cell_type": "code",
   "execution_count": 4,
   "metadata": {},
   "outputs": [
    {
     "data": {
      "text/plain": [
       "[<matplotlib.lines.Line2D at 0x7fe2f5583dd0>]"
      ]
     },
     "execution_count": 4,
     "metadata": {},
     "output_type": "execute_result"
    },
    {
     "data": {
      "image/png": "[encoded data removed]",
      "text/plain": [
       "<Figure size 432x288 with 1 Axes>"
      ]
     },
     "metadata": {
      "needs_background": "light"
     },
     "output_type": "display_data"
    }
   ],
   "source": [
    "path = 'data/S1.csv'\n",
    "csv = np.loadtxt(path, delimiter = ',')\n",
    "E_data = csv[:,0]\n",
    "I_data = csv[:,1]/max(csv[:,1])\n",
    "fig = plt.figure()\n",
    "plt.plot(E_data, I_data, 's')"
   ]
  },
  {
   "cell_type": "markdown",
   "metadata": {},
   "source": [
    "## Fit data"
   ]
  },
  {
   "cell_type": "code",
   "execution_count": 5,
   "metadata": {},
   "outputs": [
    {
     "name": "stdout",
     "output_type": "stream",
     "text": [
      "optimal =  [ 50.27055324 747.68455212 111.04009714]\n"
     ]
    },
    {
     "data": {
      "text/plain": [
       "[<matplotlib.lines.Line2D at 0x7fe2f70b0610>]"
      ]
     },
     "execution_count": 5,
     "metadata": {},
     "output_type": "execute_result"
    },
    {
     "data": {
      "image/png": "[encoded data removed]",
      "text/plain": [
       "<Figure size 432x288 with 1 Axes>"
      ]
     },
     "metadata": {
      "needs_background": "light"
     },
     "output_type": "display_data"
    }
   ],
   "source": [
    "from scipy.optimize import curve_fit\n",
    "E = E_data\n",
    "X = 7.34*E**(1.75)\n",
    "guess = [44, 1000, 160]\n",
    "\n",
    "parameter_optimal, cov = curve_fit(Ic, E_data, I_data, guess) \n",
    "print('optimal = ', parameter_optimal)\n",
    "\n",
    "\n",
    "fig = plt.figure()\n",
    "plt.plot(E, I_data, 's')\n",
    "plt.plot(E, Ic(E, *parameter_optimal))"
   ]
  },
  {
   "cell_type": "code",
   "execution_count": null,
   "metadata": {},
   "outputs": [],
   "source": []
  }
 ],
 "metadata": {
  "kernelspec": {
   "display_name": "Python 3",
   "language": "python",
   "name": "python3"
  },
  "language_info": {
   "codemirror_mode": {
    "name": "ipython",
    "version": 3
   },
   "file_extension": ".py",
   "mimetype": "text/x-python",
   "name": "python",
   "nbconvert_exporter": "python",
   "pygments_lexer": "ipython3",
   "version": "3.7.4"
  }
 },
 "nbformat": 4,
 "nbformat_minor": 2
}
